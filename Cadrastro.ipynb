{
  "nbformat": 4,
  "nbformat_minor": 0,
  "metadata": {
    "colab": {
      "provenance": [],
      "authorship_tag": "ABX9TyMOYGiTMjiBsyeWo4T1Dx4I",
      "include_colab_link": true
    },
    "kernelspec": {
      "name": "python3",
      "display_name": "Python 3"
    },
    "language_info": {
      "name": "python"
    }
  },
  "cells": [
    {
      "cell_type": "markdown",
      "metadata": {
        "id": "view-in-github",
        "colab_type": "text"
      },
      "source": [
        "<a href=\"https://colab.research.google.com/github/MunizMunizMuniz/Cadratro/blob/main/Cadrastro.ipynb\" target=\"_parent\"><img src=\"https://colab.research.google.com/assets/colab-badge.svg\" alt=\"Open In Colab\"/></a>"
      ]
    },
    {
      "cell_type": "markdown",
      "source": [
        "Função auxiliar para adicionar linha"
      ],
      "metadata": {
        "id": "mT1l0M-Ht8HT"
      }
    },
    {
      "cell_type": "code",
      "execution_count": null,
      "metadata": {
        "id": "Dm9GgSC7moYg"
      },
      "outputs": [],
      "source": [
        "def linha():\n",
        "  print('-' * 40)"
      ]
    },
    {
      "cell_type": "markdown",
      "source": [
        "Função para adicionar parte gráfica do menu"
      ],
      "metadata": {
        "id": "5GJLnW6QuGVN"
      }
    },
    {
      "cell_type": "code",
      "source": [
        "def menu():\n",
        "  linha()\n",
        "  print('MENU'.center(40))\n",
        "  linha()\n",
        "  print('''\n",
        "  1. Cadrastrar Cliente\n",
        "  2. Ver Cadrastro\n",
        "  3. Sair\n",
        "  ''')\n",
        "  linha()"
      ],
      "metadata": {
        "id": "-3FIUdbZm2PE"
      },
      "execution_count": null,
      "outputs": []
    },
    {
      "cell_type": "markdown",
      "source": [
        "Função para cadrastar o usuario"
      ],
      "metadata": {
        "id": "Ve6RFmUga3Ux"
      }
    },
    {
      "cell_type": "code",
      "source": [
        "def cadrastroCriar(arq):\n",
        "  try:\n",
        "    # Função 'aux' usada para criar e fechar o arquivos de texto\n",
        "    aux = open(arq, 'wt+')\n",
        "    aux.close()\n",
        "  except:\n",
        "    print('Erro arquivo não criado')\n",
        "    return False\n",
        "  else:\n",
        "    return True\n",
        " \n",
        "\n",
        "def cadrastroExiste(arq):\n",
        "  try:\n",
        "    # Função aux usada para abrir e fechar o arquivos de texto\n",
        "    aux = open(arq, 'rt')\n",
        "    aux.close()\n",
        "  except:\n",
        "    print('Erro arquivo não encontrado')\n",
        "\n",
        "\n",
        "def cadrastroPessoa(arq, nome = 'desconhecido'):\n",
        "  try:\n",
        "    # Função aux usada para  e fechar o arquivos de texto\n",
        "    aux = open(arq, 'at')\n",
        "  except:\n",
        "    print('Erro arquivo lido')\n",
        "  else:\n",
        "    print(aux.write(f'{nome}\\n'))\n",
        "    aux.close()  \n",
        "\n",
        "\n",
        "def cadrastroVerPessoa(arq):\n",
        "  try:\n",
        "    # Função aux usada para  e fechar o arquivos de texto\n",
        "    aux = open(arq, 'rt')\n",
        "  except:\n",
        "    print('Erro arquivo lido')\n",
        "  else:\n",
        "    print(aux.read())  \n",
        "    aux.close()"
      ],
      "metadata": {
        "id": "7GmbF2FRuTi8"
      },
      "execution_count": null,
      "outputs": []
    },
    {
      "cell_type": "markdown",
      "source": [
        "Função para ler o valor informado pelo usuario e testar se é um valor valido"
      ],
      "metadata": {
        "id": "jjOpxQ75auGn"
      }
    },
    {
      "cell_type": "code",
      "source": [
        "def ler():\n",
        "  while True:\n",
        "    try:\n",
        "      escolha = int(input('O que você deseja: '))\n",
        "    except:\n",
        "      break\n",
        "    else:\n",
        "      return escolha"
      ],
      "metadata": {
        "id": "n2huTtqKWtAw"
      },
      "execution_count": null,
      "outputs": []
    },
    {
      "cell_type": "code",
      "source": [
        "arq = 'cadrastro.txt'\n",
        "cadrastroExiste(arq)\n",
        "if not cadrastroExiste(arq):\n",
        "  cadrastroCriar(arq)\n",
        "\n",
        "while True:\n",
        "  menu()\n",
        "  print()\n",
        "  escolha = ler()\n",
        "  print()\n",
        "  if escolha == 1:\n",
        "    linha()\n",
        "    print()\n",
        "    nome = str(input('Digite o nome da pessoa que quer cadrastrar: '))\n",
        "    cadrastroPessoa(arq, nome)\n",
        "    print()\n",
        "  elif escolha == 2:\n",
        "    linha()\n",
        "    print()\n",
        "    cadrastroVerPessoa(arq)\n",
        "    print()\n",
        "  elif escolha == 3:\n",
        "    break\n",
        "  else:\n",
        "    linha()\n",
        "    print()\n",
        "    print('Erro digite uma das opções definida!')\n",
        "    print()\n",
        "\n",
        "    # cor vermelha \\033[31m"
      ],
      "metadata": {
        "colab": {
          "base_uri": "https://localhost:8080/"
        },
        "id": "y7QxZn4onYB0",
        "outputId": "ca88bb21-cfae-4b56-f83c-c0a4f9380766"
      },
      "execution_count": null,
      "outputs": [
        {
          "output_type": "stream",
          "name": "stdout",
          "text": [
            "----------------------------------------\n",
            "                  MENU                  \n",
            "----------------------------------------\n",
            "\n",
            "  1. Cadrastrar Cliente\n",
            "  2. Ver Cadrastro\n",
            "  3. Sair\n",
            "  \n",
            "----------------------------------------\n",
            "\n",
            "O que você deseja: 2\n",
            "\n",
            "----------------------------------------\n",
            "\n",
            "\n",
            "\n",
            "----------------------------------------\n",
            "                  MENU                  \n",
            "----------------------------------------\n",
            "\n",
            "  1. Cadrastrar Cliente\n",
            "  2. Ver Cadrastro\n",
            "  3. Sair\n",
            "  \n",
            "----------------------------------------\n",
            "\n"
          ]
        }
      ]
    }
  ]
}